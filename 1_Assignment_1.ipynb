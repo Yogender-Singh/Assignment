{
  "nbformat": 4,
  "nbformat_minor": 0,
  "metadata": {
    "colab": {
      "provenance": []
    },
    "kernelspec": {
      "name": "python3",
      "display_name": "Python 3"
    },
    "language_info": {
      "name": "python"
    }
  },
  "cells": [
    {
      "cell_type": "code",
      "execution_count": null,
      "metadata": {
        "id": "_i-GzqosyiGS"
      },
      "outputs": [],
      "source": [
        "# malayalam - check given str is palindrome"
      ]
    },
    {
      "cell_type": "code",
      "source": [
        "# Input data [1,1,1,2,2,3,3,3], output 1:3,2:2,3:3"
      ],
      "metadata": {
        "id": "_BqCtunAMIEs"
      },
      "execution_count": null,
      "outputs": []
    },
    {
      "cell_type": "code",
      "source": [
        "# The objective is to build classification model using an Artificial Neural Network (ANN) to predict whether a patient has diabetes based on the following features:\n",
        "\n",
        "# Glucose Level\n",
        "# Blood Pressure\n",
        "# Insulin Level\n",
        "# BMI (Body Mass Index)\n",
        "# Age\n",
        "\n",
        "diabetes_data = {\n",
        "    \"Patient_1\": {\n",
        "        \"Glucose Level\": 112.3,\n",
        "        \"Blood Pressure\": 125.7,\n",
        "        \"Insulin Level\": 130.7,\n",
        "        \"BMI\": 30.9,\n",
        "        \"Age\": 44,\n",
        "        \"Has Diabetes\": True\n",
        "    },\n",
        "    \"Patient_2\": {\n",
        "        \"Glucose Level\": 158.4,\n",
        "        \"Blood Pressure\": 74.9,\n",
        "        \"Insulin Level\": 159.3,\n",
        "        \"BMI\": 29.1,\n",
        "        \"Age\": 39,\n",
        "        \"Has Diabetes\": True\n",
        "    },\n",
        "    \"Patient_3\": {\n",
        "        \"Glucose Level\": 136.0,\n",
        "        \"Blood Pressure\": 174.1,\n",
        "        \"Insulin Level\": 81.3,\n",
        "        \"BMI\": 19.7,\n",
        "        \"Age\": 64,\n",
        "        \"Has Diabetes\": False\n",
        "    },\n",
        "    \"Patient_4\": {\n",
        "        \"Glucose Level\": 125.0,\n",
        "        \"Blood Pressure\": 152.5,\n",
        "        \"Insulin Level\": 282.3,\n",
        "        \"BMI\": 41.3,\n",
        "        \"Age\": 44,\n",
        "        \"Has Diabetes\": True\n",
        "    },\n",
        "    \"Patient_5\": {\n",
        "        \"Glucose Level\": 109.5,\n",
        "        \"Blood Pressure\": 78.8,\n",
        "        \"Insulin Level\": 132.5,\n",
        "        \"BMI\": 29.9,\n",
        "        \"Age\": 39,\n",
        "        \"Has Diabetes\": False\n",
        "    },\n",
        "    \"Patient_6\": {\n",
        "        \"Glucose Level\": 139.8,\n",
        "        \"Blood Pressure\": 149.3,\n",
        "        \"Insulin Level\": 244.7,\n",
        "        \"BMI\": 25.7,\n",
        "        \"Age\": 21,\n",
        "        \"Has Diabetes\": False\n",
        "    },\n",
        "    \"Patient_7\": {\n",
        "        \"Glucose Level\": 153.2,\n",
        "        \"Blood Pressure\": 105.6,\n",
        "        \"Insulin Level\": 40.3,\n",
        "        \"BMI\": 22.8,\n",
        "        \"Age\": 21,\n",
        "        \"Has Diabetes\": True\n",
        "    },\n",
        "    \"Patient_8\": {\n",
        "        \"Glucose Level\": 77.1,\n",
        "        \"Blood Pressure\": 140.8,\n",
        "        \"Insulin Level\": 65.5,\n",
        "        \"BMI\": 36.1,\n",
        "        \"Age\": 43,\n",
        "        \"Has Diabetes\": True\n",
        "    },\n",
        "    \"Patient_9\": {\n",
        "        \"Glucose Level\": 126.6,\n",
        "        \"Blood Pressure\": 86.1,\n",
        "        \"Insulin Level\": 61.0,\n",
        "        \"BMI\": 40.0,\n",
        "        \"Age\": 63,\n",
        "        \"Has Diabetes\": True\n",
        "    },\n",
        "    \"Patient_10\": {\n",
        "        \"Glucose Level\": 153.4,\n",
        "        \"Blood Pressure\": 146.9,\n",
        "        \"Insulin Level\": 287.5,\n",
        "        \"BMI\": 42.7,\n",
        "        \"Age\": 20,\n",
        "        \"Has Diabetes\": True\n",
        "    }\n",
        "}"
      ],
      "metadata": {
        "id": "kYojRMnTMThj"
      },
      "execution_count": null,
      "outputs": []
    },
    {
      "cell_type": "code",
      "source": [
        "# Problem: Given a string, find the length of the longest substring without repeating characters.\n",
        "\n",
        "# Example Input:\n",
        "# \"abcabcbb\"\n",
        "\n",
        "# Example Output:\n",
        "# 3"
      ],
      "metadata": {
        "id": "3Dk3aJ1YLUqS"
      },
      "execution_count": 1,
      "outputs": []
    },
    {
      "cell_type": "code",
      "source": [
        "def length_of_longest_substring(s: str) -> int:\n",
        "    char_set = set()\n",
        "    left = 0\n",
        "    max_len = 0\n",
        "\n",
        "    for right in range(len(s)):\n",
        "        while s[right] in char_set:\n",
        "            char_set.remove(s[left])\n",
        "            left += 1\n",
        "        char_set.add(s[right])\n",
        "        max_len = max(max_len, right - left + 1)\n",
        "\n",
        "    return max_len\n",
        "\n",
        "# Example usage\n",
        "input_str = \"abcabcbb\"\n",
        "print(length_of_longest_substring(input_str))  # Output: 3\n"
      ],
      "metadata": {
        "id": "ZXYlWj5QHd81",
        "colab": {
          "base_uri": "https://localhost:8080/"
        },
        "outputId": "9a78c630-4a6a-473d-8c03-0a973c755ef3"
      },
      "execution_count": 2,
      "outputs": [
        {
          "output_type": "stream",
          "name": "stdout",
          "text": [
            "3\n"
          ]
        }
      ]
    }
  ]
}